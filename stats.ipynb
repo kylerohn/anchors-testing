{
 "cells": [
  {
   "cell_type": "code",
   "execution_count": 21,
   "metadata": {},
   "outputs": [],
   "source": [
    "from scipy.stats import ttest_rel\n",
    "\n",
    "initial_acc = [0.957, 0.345, 0.959]\n",
    "initial_prec = [0.955, 0.346, 0.961]\n",
    "initial_rec = [0.957, 0.345, 0.959]\n",
    "initial_f1 = [0.953, 0.344, 0.958]\n",
    "\n",
    "final_acc = [0.965, 0.405, 0.979]\n",
    "final_prec = [0.957, 0.403, 0.983]\n",
    "final_rec = [0.961, 0.405, 0.979]\n",
    "final_f1 = [0.957, 0.401, 0.979]"
   ]
  },
  {
   "cell_type": "code",
   "execution_count": 22,
   "metadata": {},
   "outputs": [
    {
     "data": {
      "text/plain": [
       "TtestResult(statistic=np.float64(1.8660156452959362), pvalue=np.float64(0.20302408839755967), df=np.int64(2))"
      ]
     },
     "execution_count": 22,
     "metadata": {},
     "output_type": "execute_result"
    }
   ],
   "source": [
    "acc = ttest_rel(final_acc, initial_acc)\n",
    "acc"
   ]
  },
  {
   "cell_type": "code",
   "execution_count": 23,
   "metadata": {},
   "outputs": [
    {
     "data": {
      "text/plain": [
       "TtestResult(statistic=np.float64(1.6798617454632891), pvalue=np.float64(0.23499752082128167), df=np.int64(2))"
      ]
     },
     "execution_count": 23,
     "metadata": {},
     "output_type": "execute_result"
    }
   ],
   "source": [
    "prec = ttest_rel(final_prec, initial_prec)\n",
    "prec"
   ]
  },
  {
   "cell_type": "code",
   "execution_count": 24,
   "metadata": {},
   "outputs": [
    {
     "data": {
      "text/plain": [
       "TtestResult(statistic=np.float64(1.6813456149534152), pvalue=np.float64(0.23471745706704603), df=np.int64(2))"
      ]
     },
     "execution_count": 24,
     "metadata": {},
     "output_type": "execute_result"
    }
   ],
   "source": [
    "rec = ttest_rel(final_rec, initial_rec)\n",
    "rec"
   ]
  },
  {
   "cell_type": "code",
   "execution_count": 25,
   "metadata": {},
   "outputs": [
    {
     "data": {
      "text/plain": [
       "TtestResult(statistic=np.float64(1.7494390804026456), pvalue=np.float64(0.22232073881363737), df=np.int64(2))"
      ]
     },
     "execution_count": 25,
     "metadata": {},
     "output_type": "execute_result"
    }
   ],
   "source": [
    "f1 = ttest_rel(final_f1, initial_f1)\n",
    "f1"
   ]
  }
 ],
 "metadata": {
  "kernelspec": {
   "display_name": "anchors-app",
   "language": "python",
   "name": "python3"
  },
  "language_info": {
   "codemirror_mode": {
    "name": "ipython",
    "version": 3
   },
   "file_extension": ".py",
   "mimetype": "text/x-python",
   "name": "python",
   "nbconvert_exporter": "python",
   "pygments_lexer": "ipython3",
   "version": "3.12.3"
  }
 },
 "nbformat": 4,
 "nbformat_minor": 2
}
